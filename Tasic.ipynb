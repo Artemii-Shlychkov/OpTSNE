{
 "cells": [
  {
   "cell_type": "code",
   "execution_count": null,
   "metadata": {},
   "outputs": [],
   "source": [
    "from sklearn.mixture import GaussianMixture\n",
    "import scipy.stats as stats\n",
    "from scipy.stats import multivariate_normal\n",
    "import scipy as sp\n",
    "from sklearn.cluster import KMeans\n",
    "\n",
    "from sklearn.decomposition import PCA\n",
    "import sklearn.mixture\n",
    "import sklearn\n",
    "from scipy import sparse\n",
    "import matplotlib\n",
    "import scipy\n",
    "import pickle\n",
    "import numpy as np\n",
    "import matplotlib.pyplot as plt\n",
    "import seaborn as sns\n",
    "sns.set(context='talk', style='white', palette='colorblind')\n",
    "\n",
    "from python_tsne_utils import utils\n",
    "# import cpm matrices \n",
    "import importlib"
   ]
  },
  {
   "cell_type": "code",
   "execution_count": null,
   "metadata": {},
   "outputs": [],
   "source": [
    "black_background_style = {\n",
    "    'axes.facecolor': 'black',\n",
    "    'axes.edgecolor': 'white',\n",
    "    'axes.labelcolor': 'white',\n",
    "    'figure.facecolor': 'black',\n",
    "    'figure.edgecolor': 'black',\n",
    "    'xtick.color': 'white',\n",
    "    'ytick.color': 'white',\n",
    "    'grid.color': 'gray',\n",
    "    'text.color': 'white',\n",
    "    'lines.color': 'white',\n",
    "    'patch.edgecolor': 'white',\n",
    "    'savefig.facecolor': 'black',\n",
    "    'savefig.edgecolor': 'black',\n",
    "    'legend.facecolor': 'black',\n",
    "    'legend.edgecolor': 'white',\n",
    "    'legend.fontsize': 'large',\n",
    "    'legend.title_fontsize': 'large',\n",
    "    'font.family': 'monospace',\n",
    "    'font.monospace': 'Courier New',\n",
    "}\n",
    "\n",
    "# Apply the custom style\n",
    "plt.rcParams.update(black_background_style)"
   ]
  },
  {
   "cell_type": "code",
   "execution_count": null,
   "metadata": {},
   "outputs": [],
   "source": [
    "def lognormalize_counts(tasic_dict):\n",
    "    \n",
    "    counts = tasic_dict['counts']\n",
    "    \n",
    "    # trying to catch all formats in which the counts might be loaded\n",
    "    if scipy.sparse.issparse(counts):\n",
    "        counts = counts.toarray()\n",
    "    elif isinstance(CPM, np.matrix):\n",
    "        counts = np.squeeze(np.asarray(counts))\n",
    "    else:\n",
    "        raise TypeError(f\"Data format is {type(counts)} but should be np.martix or a sparse matrix.\")\n",
    "    \n",
    "    #normalize and logtransform counts\n",
    "    libsizes = counts.sum(axis=1)\n",
    "    CPM = counts / libsizes[:, None] * 1e+6\n",
    "        \n",
    "    logCPM = np.log2(CPM + 1) \n",
    "    tasic_dict['logCPM'] = logCPM  \n",
    "    \n",
    "    return tasic_dict"
   ]
  },
  {
   "cell_type": "code",
   "execution_count": null,
   "metadata": {},
   "outputs": [],
   "source": [
    "tasic_1k = lognormalize_counts(pickle.load(open('tasic_subset_1kselected.pickle', 'rb'))) "
   ]
  },
  {
   "cell_type": "code",
   "execution_count": null,
   "metadata": {},
   "outputs": [],
   "source": [
    "print(tasic_1k['logCPM'].shape)"
   ]
  },
  {
   "cell_type": "code",
   "execution_count": null,
   "metadata": {},
   "outputs": [],
   "source": [
    "# choose a subset for test\n",
    "np.random.seed(42)\n",
    "subset = np.random.choice(tasic_1k['logCPM'].shape[0], 1000, replace=False)\n",
    "data = tasic_1k['logCPM'][subset, :]\n",
    "clusters = tasic_1k['clusters'][subset]\n",
    "labels = tasic_1k['clusterColors'][clusters]\n",
    "print(data.shape)"
   ]
  },
  {
   "cell_type": "code",
   "execution_count": null,
   "metadata": {},
   "outputs": [],
   "source": [
    "tsne_results = utils.tsne_with_dof_optimisation(X=data, n_iter = 500, initial_alpha=1, dataset_name='tasic_1k_subset')"
   ]
  },
  {
   "cell_type": "code",
   "execution_count": null,
   "metadata": {},
   "outputs": [],
   "source": [
    "utils.plot_tsne_result(tsne_results, labels=labels)"
   ]
  },
  {
   "cell_type": "code",
   "execution_count": null,
   "metadata": {},
   "outputs": [],
   "source": [
    "tasic_1k = lognormalize_counts(pickle.load(open('tasic_subset_1kselected.pickle', 'rb'))) \n",
    "data = tasic_1k['logCPM']\n",
    "clusters = tasic_1k['clusters']\n",
    "labels = tasic_1k['clusterColors'][clusters]\n",
    "print(data.shape)\n",
    "print(labels.shape)"
   ]
  },
  {
   "cell_type": "code",
   "execution_count": null,
   "metadata": {},
   "outputs": [],
   "source": [
    "tsne_results = utils.tsne_with_dof_optimisation(X=data, n_iter = 500, initial_alpha=1, dataset_name='tasic_1k')"
   ]
  },
  {
   "cell_type": "code",
   "execution_count": null,
   "metadata": {},
   "outputs": [],
   "source": [
    "import importlib\n",
    "importlib.reload(utils) \n",
    "utils.plot_tsne_result(tsne_results, labels=labels)"
   ]
  },
  {
   "cell_type": "code",
   "execution_count": null,
   "metadata": {},
   "outputs": [],
   "source": [
    "tsne_results_std = utils.run_reference_tsne(X=data, n_iter = 500, fixed_alpha=1, dataset_name='tasic_1k')"
   ]
  },
  {
   "cell_type": "code",
   "execution_count": null,
   "metadata": {},
   "outputs": [],
   "source": [
    "utils.plot_tsne_result(tsne_results_std, labels=labels)"
   ]
  },
  {
   "cell_type": "code",
   "execution_count": null,
   "metadata": {},
   "outputs": [],
   "source": [
    "importlib.reload(utils)\n",
    "tsne_result_opt_1 = utils.tsne_with_dof_optimisation(\n",
    "    X=data,\n",
    "    n_iter=500,\n",
    "    initial_alpha=1,\n",
    "    dataset_name=\"tasic_1k\",\n",
    "    optimise_for_alpha=\"exact\",\n",
    "    alpha_lr=0.5,\n",
    "    verbose=True,\n",
    "    num_threads=16,\n",
    "    \n",
    ")"
   ]
  },
  {
   "cell_type": "code",
   "execution_count": null,
   "metadata": {},
   "outputs": [],
   "source": [
    "utils.plot_tsne_result(tsne_result_opt_1, labels, additional_title='Exact optimised')"
   ]
  },
  {
   "cell_type": "code",
   "execution_count": null,
   "metadata": {},
   "outputs": [],
   "source": [
    "importlib.reload(utils)\n",
    "utils.plot_side_by_side(tsne_results, tsne_result_opt_1, labels, additional_title_2=\"Exact optimised\")"
   ]
  },
  {
   "cell_type": "code",
   "execution_count": null,
   "metadata": {},
   "outputs": [],
   "source": [
    "tsne_result_opt_bh = utils.tsne_with_dof_optimisation(X=data, n_iter=500, initial_alpha=1, dataset_name=\"tasic_1k\", optimise_for_alpha=\"bh\", alpha_lr=0.5, verbose=True, num_threads=16)"
   ]
  },
  {
   "cell_type": "code",
   "execution_count": null,
   "metadata": {},
   "outputs": [],
   "source": [
    "\n",
    "importlib.reload(utils)\n",
    "knn_recall = utils.compute_knn_recall(data, tsne_result_opt_bh.embedding, labels, k=10)\n",
    "from python_tsne_utils.utils import TSNEResultsWithKNN\n",
    "tsne_result_opt_bh_with_knn = TSNEResultsWithKNN(**vars(tsne_result_opt_bh), knn_recall=knn_recall)"
   ]
  },
  {
   "cell_type": "code",
   "execution_count": null,
   "metadata": {},
   "outputs": [],
   "source": [
    "utils.plot_tsne_result(tsne_result_opt_bh, labels, additional_title=\"BH-optimised\")"
   ]
  },
  {
   "cell_type": "code",
   "execution_count": null,
   "metadata": {},
   "outputs": [],
   "source": [
    "utils.plot_side_by_side(tsne_result_opt_1, tsne_result_opt_bh, labels, additional_title_2=\"BH-optimised\", additional_title_1=\"Exact optimised\")"
   ]
  },
  {
   "cell_type": "markdown",
   "metadata": {},
   "source": [
    "## Full tasic\n"
   ]
  },
  {
   "cell_type": "code",
   "execution_count": null,
   "metadata": {},
   "outputs": [],
   "source": [
    "tasic_data = np.load('Tasic raw data/tasic-pca50.npy') # pca with 50 components\n",
    "clusters  = np.load('Tasic raw data/tasic-ttypes.npy')\n",
    "labels = np.load('Tasic raw data/tasic-colors.npy')"
   ]
  },
  {
   "cell_type": "code",
   "execution_count": null,
   "metadata": {},
   "outputs": [],
   "source": [
    "print(tasic_data.shape)\n",
    "print(clusters.shape)\n",
    "print(labels.shape)"
   ]
  },
  {
   "cell_type": "code",
   "execution_count": null,
   "metadata": {},
   "outputs": [],
   "source": [
    "tsne_result_full_tasic_bh = utils.tsne_with_dof_optimisation(X=tasic_data, n_iter=500, initial_alpha=1, dataset_name=\"Tasic\", optimise_for_alpha=\"bh\", alpha_lr=0.5, verbose=True, num_threads=16)"
   ]
  },
  {
   "cell_type": "code",
   "execution_count": null,
   "metadata": {},
   "outputs": [],
   "source": [
    "importlib.reload(utils)\n",
    "knn_recall = utils.compute_knn_recall(original_data=tasic_data, tsne_data=tsne_result_full_tasic_bh.embedding, k=10)\n",
    "from python_tsne_utils.utils import TSNEResultsWithKNN\n",
    "tsne_result_opt_bh_with_knn = TSNEResultsWithKNN(**vars(tsne_result_full_tasic_bh), knn_recall=knn_recall)"
   ]
  },
  {
   "cell_type": "code",
   "execution_count": null,
   "metadata": {},
   "outputs": [],
   "source": [
    "utils.save_pickle(tsne_result_opt_bh_with_knn, 'tsne_result_full_tasic_bh_with_knn.pickle')"
   ]
  },
  {
   "cell_type": "code",
   "execution_count": null,
   "metadata": {},
   "outputs": [],
   "source": [
    "utils.plot_tsne_result(tsne_result_opt_bh_with_knn, labels, additional_title=\"BH-optimised\")"
   ]
  },
  {
   "cell_type": "code",
   "execution_count": null,
   "metadata": {},
   "outputs": [],
   "source": [
    "tsne_result_full_tasic_no_opt = utils.tsne_with_dof_optimisation(X=tasic_data, n_iter=500, initial_alpha=1, dataset_name=\"Tasic\", verbose=True, num_threads=16)"
   ]
  },
  {
   "cell_type": "code",
   "execution_count": null,
   "metadata": {},
   "outputs": [],
   "source": [
    "utils.plot_tsne_result(tsne_result_full_tasic_no_opt, labels, additional_title=\"No optimisation\")"
   ]
  },
  {
   "cell_type": "code",
   "execution_count": null,
   "metadata": {},
   "outputs": [],
   "source": [
    "knn_recall = utils.compute_knn_recall(original_data=tasic_data, tsne_data=tsne_result_full_tasic_no_opt.embedding, k=10)\n",
    "from python_tsne_utils.utils import TSNEResultsWithKNN\n",
    "tsne_result_full_tasic_no_opt_with_knn = TSNEResultsWithKNN(**vars(tsne_result_full_tasic_no_opt), knn_recall=knn_recall)"
   ]
  },
  {
   "cell_type": "code",
   "execution_count": null,
   "metadata": {},
   "outputs": [],
   "source": [
    "tsne_result_opt_bh_with_knn = utils.load_pickle('Processed data/tsne_result_full_tasic_bh_with_knn.pickle')"
   ]
  },
  {
   "cell_type": "code",
   "execution_count": null,
   "metadata": {},
   "outputs": [],
   "source": [
    "importlib.reload(utils)\n",
    "utils.plot_side_by_side_plotly(tsne_result_full_tasic_no_opt_with_knn, tsne_result_opt_bh_with_knn, labels, additional_title_2=\"Optimized with Barnes-Hutt\", additional_title_1=\"No optimization\")"
   ]
  },
  {
   "cell_type": "code",
   "execution_count": null,
   "metadata": {},
   "outputs": [],
   "source": [
    "import pickle\n",
    "with open('full_tasic_tsne_results.pickle', 'wb') as f:\n",
    "    pickle.dump(tsne_result_full_tasic_bh, f)"
   ]
  },
  {
   "cell_type": "code",
   "execution_count": null,
   "metadata": {},
   "outputs": [],
   "source": [
    "from openTSNE import TSNE"
   ]
  },
  {
   "cell_type": "code",
   "execution_count": null,
   "metadata": {},
   "outputs": [],
   "source": [
    "regular_tsne_auto_params = TSNE(n_iter=500, random_state=42, n_jobs=16, verbose=True)\n",
    "regular_tsne_results = regular_tsne_auto_params.fit(tasic_data)"
   ]
  },
  {
   "cell_type": "code",
   "execution_count": null,
   "metadata": {},
   "outputs": [],
   "source": [
    "plt.scatter (regular_tsne_results[:, 0], regular_tsne_results[:, 1], c=labels, cmap='tab20', s = 0.3)"
   ]
  },
  {
   "cell_type": "code",
   "execution_count": null,
   "metadata": {},
   "outputs": [],
   "source": [
    "tsne_result_opt_bh_with_knn = utils.load_pickle('Processed data/tsne_result_full_tasic_bh_with_knn.pickle')"
   ]
  },
  {
   "cell_type": "code",
   "execution_count": null,
   "metadata": {},
   "outputs": [],
   "source": [
    "utils.plot_tsne_result(tsne_result_opt_bh_with_knn, labels, additional_title=\"BH-optimised\")"
   ]
  },
  {
   "cell_type": "code",
   "execution_count": null,
   "metadata": {},
   "outputs": [],
   "source": [
    "import matplotlib.pyplot as plt\n",
    "import matplotlib.animation as animation\n",
    "import numpy as np\n",
    "from IPython.display import HTML\n",
    "\n",
    "\n",
    "plt.rcParams['animation.embed_limit'] = 1000  # Increase the limit to 1000 MB (1 GB)\n",
    "# Example data: list of t-SNE embeddings\n",
    "tsne_embeddings = tsne_result_opt_bh_with_knn.im_embeddings\n",
    "#labels \n",
    "# Create a figure and axis\n",
    "fig, ax = plt.subplots()\n",
    "sc = ax.scatter(tsne_embeddings[0][:, 0], tsne_embeddings[0][:, 1], c=labels, s=0.3)\n",
    "# ax.set_xlim(-100, 100)\n",
    "# ax.set_ylim(-100, 100)\n",
    "# Remove axes, labels, and spines\n",
    "ax.set_xticks([])\n",
    "ax.set_yticks([])\n",
    "ax.spines['top'].set_visible(False)\n",
    "ax.spines['right'].set_visible(False)\n",
    "ax.spines['bottom'].set_visible(False)\n",
    "ax.spines['left'].set_visible(False)\n",
    "def init():\n",
    "    sc.set_offsets(np.c_[tsne_embeddings[0][:, 0], tsne_embeddings[0][:, 1]])\n",
    "    return sc,\n",
    "\n",
    "def update(i):\n",
    "    sc.set_offsets(np.c_[tsne_embeddings[i][:, 0], tsne_embeddings[i][:, 1]])\n",
    "    ax.set_xlim(np.min(tsne_embeddings[i][:, 0]), np.max(tsne_embeddings[i][:, 0]))\n",
    "    ax.set_ylim(np.min(tsne_embeddings[i][:, 1]), np.max(tsne_embeddings[i][:, 1]))\n",
    "    return sc,\n",
    "\n",
    "# Create the animation\n",
    "ani = animation.FuncAnimation(fig, update, frames=len(tsne_embeddings), init_func=init, blit=True)\n",
    "\n",
    "# Save the animation as a GIF file using Pillow\n",
    "ani.save('Figures/tsne_mnist_full_opt_bh.gif', writer='imagemagick', fps=10, dpi = 300)\n",
    "\n",
    "\n",
    "# Display the animation in the Jupyter Notebook\n",
    "HTML(ani.to_jshtml())"
   ]
  }
 ],
 "metadata": {
  "kernelspec": {
   "display_name": ".venv",
   "language": "python",
   "name": "python3"
  },
  "language_info": {
   "codemirror_mode": {
    "name": "ipython",
    "version": 3
   },
   "file_extension": ".py",
   "mimetype": "text/x-python",
   "name": "python",
   "nbconvert_exporter": "python",
   "pygments_lexer": "ipython3",
   "version": "3.12.4"
  }
 },
 "nbformat": 4,
 "nbformat_minor": 2
}
